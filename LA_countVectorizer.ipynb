{
 "cells": [
  {
   "cell_type": "code",
   "execution_count": 25,
   "id": "121e3dc2-574b-4d37-b963-616f3b7e3544",
   "metadata": {},
   "outputs": [],
   "source": [
    "import pandas as pd\n",
    "from sklearn.feature_extraction.text import CountVectorizer"
   ]
  },
  {
   "cell_type": "code",
   "execution_count": 26,
   "id": "a9f03521-6c7b-40a9-9d2c-c5607cfe476b",
   "metadata": {},
   "outputs": [],
   "source": [
    "df = pd.read_csv('normalized_data.csv')"
   ]
  },
  {
   "cell_type": "code",
   "execution_count": 27,
   "id": "97c89001-807a-4799-8608-21d5c0f0641c",
   "metadata": {},
   "outputs": [
    {
     "data": {
      "text/html": [
       "<div>\n",
       "<style scoped>\n",
       "    .dataframe tbody tr th:only-of-type {\n",
       "        vertical-align: middle;\n",
       "    }\n",
       "\n",
       "    .dataframe tbody tr th {\n",
       "        vertical-align: top;\n",
       "    }\n",
       "\n",
       "    .dataframe thead th {\n",
       "        text-align: right;\n",
       "    }\n",
       "</style>\n",
       "<table border=\"1\" class=\"dataframe\">\n",
       "  <thead>\n",
       "    <tr style=\"text-align: right;\">\n",
       "      <th></th>\n",
       "      <th>source</th>\n",
       "      <th>id</th>\n",
       "      <th>text</th>\n",
       "    </tr>\n",
       "  </thead>\n",
       "  <tbody>\n",
       "    <tr>\n",
       "      <th>0</th>\n",
       "      <td>0</td>\n",
       "      <td>0</td>\n",
       "      <td>12 year slave analysi film essay 2013 film 12 ...</td>\n",
       "    </tr>\n",
       "    <tr>\n",
       "      <th>1</th>\n",
       "      <td>0</td>\n",
       "      <td>1</td>\n",
       "      <td>20+ social media post idea radic simplifi mark...</td>\n",
       "    </tr>\n",
       "    <tr>\n",
       "      <th>2</th>\n",
       "      <td>0</td>\n",
       "      <td>2</td>\n",
       "      <td>2022 russian invas ukrain global media coverag...</td>\n",
       "    </tr>\n",
       "    <tr>\n",
       "      <th>3</th>\n",
       "      <td>0</td>\n",
       "      <td>3</td>\n",
       "      <td>533 u.s. 27 2001 kyllo v. unit state use therm...</td>\n",
       "    </tr>\n",
       "    <tr>\n",
       "      <th>4</th>\n",
       "      <td>0</td>\n",
       "      <td>4</td>\n",
       "      <td>charl schwab corpor case essay charl schwab fo...</td>\n",
       "    </tr>\n",
       "    <tr>\n",
       "      <th>...</th>\n",
       "      <td>...</td>\n",
       "      <td>...</td>\n",
       "      <td>...</td>\n",
       "    </tr>\n",
       "    <tr>\n",
       "      <th>9995</th>\n",
       "      <td>0</td>\n",
       "      <td>9995</td>\n",
       "      <td>workplac stress absente ship-repair industri c...</td>\n",
       "    </tr>\n",
       "    <tr>\n",
       "      <th>9996</th>\n",
       "      <td>0</td>\n",
       "      <td>9996</td>\n",
       "      <td>world war nation conflict reason essay world w...</td>\n",
       "    </tr>\n",
       "    <tr>\n",
       "      <th>9997</th>\n",
       "      <td>0</td>\n",
       "      <td>9997</td>\n",
       "      <td>xyz compani oper decis present effect market m...</td>\n",
       "    </tr>\n",
       "    <tr>\n",
       "      <th>9998</th>\n",
       "      <td>0</td>\n",
       "      <td>9998</td>\n",
       "      <td>yahoo compani histori present establish 1994 j...</td>\n",
       "    </tr>\n",
       "    <tr>\n",
       "      <th>9999</th>\n",
       "      <td>0</td>\n",
       "      <td>9999</td>\n",
       "      <td>zimbabw ufo encount 1994 essay differ countri ...</td>\n",
       "    </tr>\n",
       "  </tbody>\n",
       "</table>\n",
       "<p>10000 rows × 3 columns</p>\n",
       "</div>"
      ],
      "text/plain": [
       "      source    id                                               text\n",
       "0          0     0  12 year slave analysi film essay 2013 film 12 ...\n",
       "1          0     1  20+ social media post idea radic simplifi mark...\n",
       "2          0     2  2022 russian invas ukrain global media coverag...\n",
       "3          0     3  533 u.s. 27 2001 kyllo v. unit state use therm...\n",
       "4          0     4  charl schwab corpor case essay charl schwab fo...\n",
       "...      ...   ...                                                ...\n",
       "9995       0  9995  workplac stress absente ship-repair industri c...\n",
       "9996       0  9996  world war nation conflict reason essay world w...\n",
       "9997       0  9997  xyz compani oper decis present effect market m...\n",
       "9998       0  9998  yahoo compani histori present establish 1994 j...\n",
       "9999       0  9999  zimbabw ufo encount 1994 essay differ countri ...\n",
       "\n",
       "[10000 rows x 3 columns]"
      ]
     },
     "execution_count": 27,
     "metadata": {},
     "output_type": "execute_result"
    }
   ],
   "source": [
    "df"
   ]
  },
  {
   "cell_type": "code",
   "execution_count": 28,
   "id": "e05e53f3-ecac-4f9b-8eaf-c00530249a04",
   "metadata": {},
   "outputs": [],
   "source": [
    "vectorizer = CountVectorizer(max_df=0.8, min_df=0.2, ngram_range=(2,3)) # ngram_range=(2,2) would get bigrams only"
   ]
  },
  {
   "cell_type": "code",
   "execution_count": 29,
   "id": "df812271-050b-4047-904b-0ad0115fbf58",
   "metadata": {},
   "outputs": [],
   "source": [
    "matrix = vectorizer.fit_transform(df.text)"
   ]
  },
  {
   "cell_type": "code",
   "execution_count": 30,
   "id": "51d91673-3a72-4b38-b509-e6d8609bef1f",
   "metadata": {},
   "outputs": [
    {
     "data": {
      "text/plain": [
       "array(['et al', 'tabl content'], dtype=object)"
      ]
     },
     "execution_count": 30,
     "metadata": {},
     "output_type": "execute_result"
    }
   ],
   "source": [
    "vectorizer.get_feature_names_out()"
   ]
  },
  {
   "cell_type": "code",
   "execution_count": 16,
   "id": "898afb4a-d78c-4f3a-9772-68f5c907f4da",
   "metadata": {},
   "outputs": [],
   "source": [
    "def dummy(token):\n",
    "    return token"
   ]
  },
  {
   "cell_type": "code",
   "execution_count": 17,
   "id": "971cd5b0-7db0-4e6d-a927-3f2d1e3d8ea0",
   "metadata": {},
   "outputs": [],
   "source": [
    "vectorizer = CountVectorizer(tokenizer=dummy, preprocessor=dummy, ngram_range=(2,3)) # ngram_range=(2,2) would get bigrams only"
   ]
  },
  {
   "cell_type": "code",
   "execution_count": 18,
   "id": "54baef5b-4212-4236-bb62-6f99bccffc5a",
   "metadata": {},
   "outputs": [
    {
     "name": "stderr",
     "output_type": "stream",
     "text": [
      "C:\\Users\\color\\Anaconda3\\envs\\pr_project\\lib\\site-packages\\sklearn\\feature_extraction\\text.py:521: UserWarning: The parameter 'token_pattern' will not be used since 'tokenizer' is not None'\n",
      "  warnings.warn(\n"
     ]
    },
    {
     "data": {
      "text/plain": [
       "array([\"  '\", \"  ' +\", \"  ' ,\", ..., '~ e s', '~ n', \"~ n '\"],\n",
       "      dtype=object)"
      ]
     },
     "execution_count": 18,
     "metadata": {},
     "output_type": "execute_result"
    }
   ],
   "source": [
    "matrix = vectorizer.fit_transform(df.text)\n",
    "vectorizer.get_feature_names_out()"
   ]
  },
  {
   "cell_type": "code",
   "execution_count": 38,
   "id": "ea756460-7ab3-4448-9393-b4aa2033fc03",
   "metadata": {},
   "outputs": [],
   "source": [
    "import nltk\n",
    "from datasets import load_dataset"
   ]
  },
  {
   "cell_type": "code",
   "execution_count": 39,
   "id": "ac5c900e-13ef-4fca-b004-d904bd134d79",
   "metadata": {},
   "outputs": [
    {
     "data": {
      "text/plain": [
       "DatasetDict({\n",
       "    train: Dataset({\n",
       "        features: ['source', 'id', 'text'],\n",
       "        num_rows: 1392522\n",
       "    })\n",
       "})"
      ]
     },
     "execution_count": 39,
     "metadata": {},
     "output_type": "execute_result"
    }
   ],
   "source": [
    "dataset = load_dataset('artem9k/ai-text-detection-pile')\n",
    "dataset"
   ]
  },
  {
   "cell_type": "code",
   "execution_count": 40,
   "id": "e8117380-bad5-4a8e-b4d0-2a7c0fc6697b",
   "metadata": {},
   "outputs": [
    {
     "data": {
      "text/html": [
       "<div>\n",
       "<style scoped>\n",
       "    .dataframe tbody tr th:only-of-type {\n",
       "        vertical-align: middle;\n",
       "    }\n",
       "\n",
       "    .dataframe tbody tr th {\n",
       "        vertical-align: top;\n",
       "    }\n",
       "\n",
       "    .dataframe thead th {\n",
       "        text-align: right;\n",
       "    }\n",
       "</style>\n",
       "<table border=\"1\" class=\"dataframe\">\n",
       "  <thead>\n",
       "    <tr style=\"text-align: right;\">\n",
       "      <th></th>\n",
       "      <th>source</th>\n",
       "      <th>id</th>\n",
       "      <th>text</th>\n",
       "    </tr>\n",
       "  </thead>\n",
       "  <tbody>\n",
       "    <tr>\n",
       "      <th>0</th>\n",
       "      <td>human</td>\n",
       "      <td>0</td>\n",
       "      <td>12 Years a Slave: An Analysis of the Film Essa...</td>\n",
       "    </tr>\n",
       "    <tr>\n",
       "      <th>1</th>\n",
       "      <td>human</td>\n",
       "      <td>1</td>\n",
       "      <td>20+ Social Media Post Ideas to Radically Simpl...</td>\n",
       "    </tr>\n",
       "    <tr>\n",
       "      <th>2</th>\n",
       "      <td>human</td>\n",
       "      <td>2</td>\n",
       "      <td>2022 Russian Invasion of Ukraine in Global Med...</td>\n",
       "    </tr>\n",
       "    <tr>\n",
       "      <th>3</th>\n",
       "      <td>human</td>\n",
       "      <td>3</td>\n",
       "      <td>533 U.S. 27 (2001) Kyllo v. United States: The...</td>\n",
       "    </tr>\n",
       "    <tr>\n",
       "      <th>4</th>\n",
       "      <td>human</td>\n",
       "      <td>4</td>\n",
       "      <td>A Charles Schwab Corporation Case Essay\\n\\nCha...</td>\n",
       "    </tr>\n",
       "  </tbody>\n",
       "</table>\n",
       "</div>"
      ],
      "text/plain": [
       "  source  id                                               text\n",
       "0  human   0  12 Years a Slave: An Analysis of the Film Essa...\n",
       "1  human   1  20+ Social Media Post Ideas to Radically Simpl...\n",
       "2  human   2  2022 Russian Invasion of Ukraine in Global Med...\n",
       "3  human   3  533 U.S. 27 (2001) Kyllo v. United States: The...\n",
       "4  human   4  A Charles Schwab Corporation Case Essay\\n\\nCha..."
      ]
     },
     "execution_count": 40,
     "metadata": {},
     "output_type": "execute_result"
    }
   ],
   "source": [
    "df = pd.DataFrame.from_dict(dataset['train'])\n",
    "df.head()"
   ]
  },
  {
   "cell_type": "code",
   "execution_count": 41,
   "id": "de6aeb76-8a35-4662-a0ae-8490a2af74b3",
   "metadata": {},
   "outputs": [],
   "source": [
    "data = df.iloc[:1000,:]"
   ]
  },
  {
   "cell_type": "code",
   "execution_count": 50,
   "id": "4c69b578-783d-47cd-b112-1b22cfbd5fed",
   "metadata": {},
   "outputs": [
    {
     "data": {
      "text/plain": [
       "array(['19 pandemic', 'al 2017', 'al 2018', 'al 2019', 'al 2020',\n",
       "       'al 2021', 'case study', 'conclusion references',\n",
       "       'conclusion references introduction', 'contents introduction',\n",
       "       'covid 19', 'covid 19 pandemic', 'decision making', 'essay table',\n",
       "       'essay table contents', 'et al', 'et al 2017', 'et al 2018',\n",
       "       'et al 2019', 'et al 2020', 'et al 2021', 'even though',\n",
       "       'health care', 'high quality', 'international journal',\n",
       "       'long term', 'many people', 'mental health', 'new york',\n",
       "       'one hand', 'public health', 'references introduction',\n",
       "       'research paper', 'table contents', 'table contents introduction',\n",
       "       'united states', 'work cited', 'works cited'], dtype=object)"
      ]
     },
     "execution_count": 50,
     "metadata": {},
     "output_type": "execute_result"
    }
   ],
   "source": [
    "vectorizer = CountVectorizer(max_df=0.95, min_df=0.05, stop_words=nltk.corpus.stopwords.words(\"english\"), ngram_range=(2,3)) # ngram_range=(2,2) would get bigrams only\n",
    "# vectorizer = CountVectorizer(max_df=0.8, min_df=0.2, ngram_range=(2,3)) # ngram_range=(2,2) would get bigrams only\n",
    "\n",
    "matrix = vectorizer.fit_transform(data.text)\n",
    "vectorizer.get_feature_names_out()\n"
   ]
  },
  {
   "cell_type": "code",
   "execution_count": null,
   "id": "f0258cd8-0db7-4fb8-80a9-6bd99c6527ab",
   "metadata": {},
   "outputs": [],
   "source": []
  }
 ],
 "metadata": {
  "kernelspec": {
   "display_name": "Python 3 (ipykernel)",
   "language": "python",
   "name": "python3"
  },
  "language_info": {
   "codemirror_mode": {
    "name": "ipython",
    "version": 3
   },
   "file_extension": ".py",
   "mimetype": "text/x-python",
   "name": "python",
   "nbconvert_exporter": "python",
   "pygments_lexer": "ipython3",
   "version": "3.9.20"
  }
 },
 "nbformat": 4,
 "nbformat_minor": 5
}
