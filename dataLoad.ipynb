{
 "cells": [
  {
   "cell_type": "code",
   "execution_count": 7,
   "metadata": {},
   "outputs": [
    {
     "name": "stdout",
     "output_type": "stream",
     "text": [
      "Requirement already satisfied: datasets in c:\\users\\jarod\\anaconda3\\envs\\patrecenv\\lib\\site-packages (3.0.1)\n",
      "Requirement already satisfied: filelock in c:\\users\\jarod\\anaconda3\\envs\\patrecenv\\lib\\site-packages (from datasets) (3.13.1)\n",
      "Requirement already satisfied: numpy>=1.17 in c:\\users\\jarod\\anaconda3\\envs\\patrecenv\\lib\\site-packages (from datasets) (1.26.4)\n",
      "Requirement already satisfied: pyarrow>=15.0.0 in c:\\users\\jarod\\anaconda3\\envs\\patrecenv\\lib\\site-packages (from datasets) (17.0.0)\n",
      "Requirement already satisfied: dill<0.3.9,>=0.3.0 in c:\\users\\jarod\\anaconda3\\envs\\patrecenv\\lib\\site-packages (from datasets) (0.3.8)\n",
      "Requirement already satisfied: pandas in c:\\users\\jarod\\anaconda3\\envs\\patrecenv\\lib\\site-packages (from datasets) (2.2.2)\n",
      "Requirement already satisfied: requests>=2.32.2 in c:\\users\\jarod\\anaconda3\\envs\\patrecenv\\lib\\site-packages (from datasets) (2.32.3)\n",
      "Requirement already satisfied: tqdm>=4.66.3 in c:\\users\\jarod\\anaconda3\\envs\\patrecenv\\lib\\site-packages (from datasets) (4.66.5)\n",
      "Requirement already satisfied: xxhash in c:\\users\\jarod\\anaconda3\\envs\\patrecenv\\lib\\site-packages (from datasets) (3.5.0)\n",
      "Requirement already satisfied: multiprocess in c:\\users\\jarod\\anaconda3\\envs\\patrecenv\\lib\\site-packages (from datasets) (0.70.16)\n",
      "Requirement already satisfied: fsspec<=2024.6.1,>=2023.1.0 in c:\\users\\jarod\\anaconda3\\envs\\patrecenv\\lib\\site-packages (from fsspec[http]<=2024.6.1,>=2023.1.0->datasets) (2024.6.1)\n",
      "Requirement already satisfied: aiohttp in c:\\users\\jarod\\anaconda3\\envs\\patrecenv\\lib\\site-packages (from datasets) (3.10.10)\n",
      "Requirement already satisfied: huggingface-hub>=0.22.0 in c:\\users\\jarod\\anaconda3\\envs\\patrecenv\\lib\\site-packages (from datasets) (0.25.2)\n",
      "Requirement already satisfied: packaging in c:\\users\\jarod\\anaconda3\\envs\\patrecenv\\lib\\site-packages (from datasets) (24.1)\n",
      "Requirement already satisfied: pyyaml>=5.1 in c:\\users\\jarod\\anaconda3\\envs\\patrecenv\\lib\\site-packages (from datasets) (6.0.2)\n",
      "Requirement already satisfied: aiohappyeyeballs>=2.3.0 in c:\\users\\jarod\\anaconda3\\envs\\patrecenv\\lib\\site-packages (from aiohttp->datasets) (2.4.3)\n",
      "Requirement already satisfied: aiosignal>=1.1.2 in c:\\users\\jarod\\anaconda3\\envs\\patrecenv\\lib\\site-packages (from aiohttp->datasets) (1.3.1)\n",
      "Requirement already satisfied: attrs>=17.3.0 in c:\\users\\jarod\\anaconda3\\envs\\patrecenv\\lib\\site-packages (from aiohttp->datasets) (24.2.0)\n",
      "Requirement already satisfied: frozenlist>=1.1.1 in c:\\users\\jarod\\anaconda3\\envs\\patrecenv\\lib\\site-packages (from aiohttp->datasets) (1.4.1)\n",
      "Requirement already satisfied: multidict<7.0,>=4.5 in c:\\users\\jarod\\anaconda3\\envs\\patrecenv\\lib\\site-packages (from aiohttp->datasets) (6.1.0)\n",
      "Requirement already satisfied: yarl<2.0,>=1.12.0 in c:\\users\\jarod\\anaconda3\\envs\\patrecenv\\lib\\site-packages (from aiohttp->datasets) (1.15.4)\n",
      "Requirement already satisfied: typing-extensions>=3.7.4.3 in c:\\users\\jarod\\anaconda3\\envs\\patrecenv\\lib\\site-packages (from huggingface-hub>=0.22.0->datasets) (4.11.0)\n",
      "Requirement already satisfied: charset-normalizer<4,>=2 in c:\\users\\jarod\\anaconda3\\envs\\patrecenv\\lib\\site-packages (from requests>=2.32.2->datasets) (3.3.2)\n",
      "Requirement already satisfied: idna<4,>=2.5 in c:\\users\\jarod\\anaconda3\\envs\\patrecenv\\lib\\site-packages (from requests>=2.32.2->datasets) (3.7)\n",
      "Requirement already satisfied: urllib3<3,>=1.21.1 in c:\\users\\jarod\\anaconda3\\envs\\patrecenv\\lib\\site-packages (from requests>=2.32.2->datasets) (2.2.3)\n",
      "Requirement already satisfied: certifi>=2017.4.17 in c:\\users\\jarod\\anaconda3\\envs\\patrecenv\\lib\\site-packages (from requests>=2.32.2->datasets) (2024.8.30)\n",
      "Requirement already satisfied: colorama in c:\\users\\jarod\\anaconda3\\envs\\patrecenv\\lib\\site-packages (from tqdm>=4.66.3->datasets) (0.4.6)\n",
      "Requirement already satisfied: python-dateutil>=2.8.2 in c:\\users\\jarod\\anaconda3\\envs\\patrecenv\\lib\\site-packages (from pandas->datasets) (2.9.0.post0)\n",
      "Requirement already satisfied: pytz>=2020.1 in c:\\users\\jarod\\anaconda3\\envs\\patrecenv\\lib\\site-packages (from pandas->datasets) (2024.1)\n",
      "Requirement already satisfied: tzdata>=2022.7 in c:\\users\\jarod\\anaconda3\\envs\\patrecenv\\lib\\site-packages (from pandas->datasets) (2023.3)\n",
      "Requirement already satisfied: six>=1.5 in c:\\users\\jarod\\anaconda3\\envs\\patrecenv\\lib\\site-packages (from python-dateutil>=2.8.2->pandas->datasets) (1.16.0)\n",
      "Requirement already satisfied: propcache>=0.2.0 in c:\\users\\jarod\\anaconda3\\envs\\patrecenv\\lib\\site-packages (from yarl<2.0,>=1.12.0->aiohttp->datasets) (0.2.0)\n",
      "Note: you may need to restart the kernel to use updated packages.\n"
     ]
    }
   ],
   "source": [
    "import numpy as np\n",
    "import matplotlib as plt\n",
    "# import huggingface_hub as hub\n",
    "# from huggingface_hub import hf_hub_download\n",
    "%pip install datasets\n",
    "from datasets import load_dataset\n",
    "from sklearn.model_selection import train_test_split\n"
   ]
  },
  {
   "cell_type": "code",
   "execution_count": 2,
   "metadata": {},
   "outputs": [],
   "source": [
    "ds = load_dataset(\"artem9k/ai-text-detection-pile\")"
   ]
  },
  {
   "cell_type": "code",
   "execution_count": 3,
   "metadata": {},
   "outputs": [
    {
     "data": {
      "text/plain": [
       "datasets.dataset_dict.DatasetDict"
      ]
     },
     "execution_count": 3,
     "metadata": {},
     "output_type": "execute_result"
    }
   ],
   "source": [
    "type(ds)"
   ]
  },
  {
   "cell_type": "code",
   "execution_count": 17,
   "metadata": {},
   "outputs": [
    {
     "name": "stdout",
     "output_type": "stream",
     "text": [
      "{'source': 'human', 'id': 1, 'text': '20+ Social Media Post Ideas to Radically Simplify Your Marketing Essay\\n\\nSocial Media Examiner’s (2021) video on social media initiatives was most useful to me since it provides more than twenty social media post ideas to improve the marketing of any business. This source demonstrates that social media, namely Facebook Business and Instagram, have great power and enhance marketing, promoting organizations through posts, stories, hashtags, and user-generated content. The most useful information to me was about trends, pros and cons, comparison, direct offer, and long-form content.\\n\\nEffective change leadership is important when an organization wants to adopt social media initiatives. A good leader is associated with effective communication, for example, written content on social media. For example, a leader may encourage customers to generate content by creating a hashtag, like #MyInstagramLogo, and inquiring them to share their views on the logo or any other product or service the company offers (They Ask, You Answer, 2018). Leaders should clarify their vision and ensure that everyone understands them. They should lead their employees in the right direction, inspiring them to change.\\n\\nI may encounter the following ethical issues: over-promising, under-delivering, and overstated statements. I would try to provide my customers with honest information about the business and stop making everyone happy to address the first issue. Over-promising can make clients disappointed and lead to their negative feedback. Therefore, it is better to follow ethical principles and make promises only if they can be 100% fulfilled. To address the second issue, I would try to be transparent and honest about the content. If the company claims to deliver products from one country to another in three days, it will need to fulfill it. Otherwise, it will be lying to the clients, thus losing its credibility. These strategies will help me address the above-mentioned ethical issues because honesty and transparency are always valued, and they help attract new customers and make the old customers stay with the company they trust.\\n\\nReferences\\n\\nSocial Media Examiner. (2021). 20+ social media post ideas to radically simplify your marketing [Video]. YouTube. Web.\\n\\nThey Ask, You Answer taught by IMPACT. (2018). 5 social media campaign examples from big brands you want to be [Video]. YouTube. Web.\\n'}\n"
     ]
    }
   ],
   "source": [
    "# Load the data into targets and texts then split into train and test sets\n",
    "\n",
    "unsplit = ds['train']\n",
    "# print(unsplit[83:86])\n",
    "targets = unsplit['source']\n",
    "ids = unsplit['id']\n",
    "texts = unsplit['text']\n",
    "\n",
    "# print(unsplit[1])\n",
    "\n",
    "X_train, X_test, t_train, t_val  = train_test_split(texts, targets, test_size = 0.2, random_state=2013)"
   ]
  },
  {
   "cell_type": "code",
   "execution_count": 6,
   "metadata": {},
   "outputs": [
    {
     "ename": "KeyError",
     "evalue": "(0, slice(None, 5, None))",
     "output_type": "error",
     "traceback": [
      "\u001b[1;31m---------------------------------------------------------------------------\u001b[0m",
      "\u001b[1;31mKeyError\u001b[0m                                  Traceback (most recent call last)",
      "Cell \u001b[1;32mIn[6], line 5\u001b[0m\n\u001b[0;32m      2\u001b[0m unsplitDict \u001b[38;5;241m=\u001b[39m unsplit\u001b[38;5;241m.\u001b[39mto_dict()\n\u001b[0;32m      4\u001b[0m \u001b[38;5;66;03m# View the first few entries\u001b[39;00m\n\u001b[1;32m----> 5\u001b[0m \u001b[38;5;28mprint\u001b[39m(unsplitDict[\u001b[38;5;241m0\u001b[39m,:\u001b[38;5;241m5\u001b[39m])\n",
      "\u001b[1;31mKeyError\u001b[0m: (0, slice(None, 5, None))"
     ]
    }
   ],
   "source": [
    "\n",
    "\n"
   ]
  },
  {
   "cell_type": "code",
   "execution_count": null,
   "metadata": {},
   "outputs": [],
   "source": []
  }
 ],
 "metadata": {
  "kernelspec": {
   "display_name": "PatRecEnv",
   "language": "python",
   "name": "python3"
  },
  "language_info": {
   "codemirror_mode": {
    "name": "ipython",
    "version": 3
   },
   "file_extension": ".py",
   "mimetype": "text/x-python",
   "name": "python",
   "nbconvert_exporter": "python",
   "pygments_lexer": "ipython3",
   "version": "3.12.7"
  }
 },
 "nbformat": 4,
 "nbformat_minor": 2
}
