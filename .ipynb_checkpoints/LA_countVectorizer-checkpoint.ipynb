{
 "cells": [
  {
   "cell_type": "code",
   "execution_count": 1,
   "id": "121e3dc2-574b-4d37-b963-616f3b7e3544",
   "metadata": {},
   "outputs": [],
   "source": [
    "import pandas as pd"
   ]
  },
  {
   "cell_type": "code",
   "execution_count": 2,
   "id": "a9f03521-6c7b-40a9-9d2c-c5607cfe476b",
   "metadata": {},
   "outputs": [],
   "source": [
    "df = pd.read_csv('normalized_data.csv')"
   ]
  },
  {
   "cell_type": "code",
   "execution_count": 3,
   "id": "97c89001-807a-4799-8608-21d5c0f0641c",
   "metadata": {},
   "outputs": [
    {
     "data": {
      "text/html": [
       "<div>\n",
       "<style scoped>\n",
       "    .dataframe tbody tr th:only-of-type {\n",
       "        vertical-align: middle;\n",
       "    }\n",
       "\n",
       "    .dataframe tbody tr th {\n",
       "        vertical-align: top;\n",
       "    }\n",
       "\n",
       "    .dataframe thead th {\n",
       "        text-align: right;\n",
       "    }\n",
       "</style>\n",
       "<table border=\"1\" class=\"dataframe\">\n",
       "  <thead>\n",
       "    <tr style=\"text-align: right;\">\n",
       "      <th></th>\n",
       "      <th>source</th>\n",
       "      <th>id</th>\n",
       "      <th>text</th>\n",
       "    </tr>\n",
       "  </thead>\n",
       "  <tbody>\n",
       "    <tr>\n",
       "      <th>0</th>\n",
       "      <td>0</td>\n",
       "      <td>0</td>\n",
       "      <td>['12', 'year', 'slave', 'analysi', 'film', 'es...</td>\n",
       "    </tr>\n",
       "    <tr>\n",
       "      <th>1</th>\n",
       "      <td>0</td>\n",
       "      <td>1</td>\n",
       "      <td>['20+', 'social', 'media', 'post', 'idea', 'ra...</td>\n",
       "    </tr>\n",
       "    <tr>\n",
       "      <th>2</th>\n",
       "      <td>0</td>\n",
       "      <td>2</td>\n",
       "      <td>['2022', 'russian', 'invas', 'ukrain', 'global...</td>\n",
       "    </tr>\n",
       "    <tr>\n",
       "      <th>3</th>\n",
       "      <td>0</td>\n",
       "      <td>3</td>\n",
       "      <td>['533', 'u.s.', '27', '2001', 'kyllo', 'v.', '...</td>\n",
       "    </tr>\n",
       "    <tr>\n",
       "      <th>4</th>\n",
       "      <td>0</td>\n",
       "      <td>4</td>\n",
       "      <td>['charl', 'schwab', 'corpor', 'case', 'essay',...</td>\n",
       "    </tr>\n",
       "    <tr>\n",
       "      <th>...</th>\n",
       "      <td>...</td>\n",
       "      <td>...</td>\n",
       "      <td>...</td>\n",
       "    </tr>\n",
       "    <tr>\n",
       "      <th>9995</th>\n",
       "      <td>0</td>\n",
       "      <td>9995</td>\n",
       "      <td>['workplac', 'stress', 'absente', 'ship-repair...</td>\n",
       "    </tr>\n",
       "    <tr>\n",
       "      <th>9996</th>\n",
       "      <td>0</td>\n",
       "      <td>9996</td>\n",
       "      <td>['world', 'war', 'nation', 'conflict', 'reason...</td>\n",
       "    </tr>\n",
       "    <tr>\n",
       "      <th>9997</th>\n",
       "      <td>0</td>\n",
       "      <td>9997</td>\n",
       "      <td>['xyz', 'compani', 'oper', 'decis', 'present',...</td>\n",
       "    </tr>\n",
       "    <tr>\n",
       "      <th>9998</th>\n",
       "      <td>0</td>\n",
       "      <td>9998</td>\n",
       "      <td>['yahoo', 'compani', 'histori', 'present', 'es...</td>\n",
       "    </tr>\n",
       "    <tr>\n",
       "      <th>9999</th>\n",
       "      <td>0</td>\n",
       "      <td>9999</td>\n",
       "      <td>['zimbabw', 'ufo', 'encount', '1994', 'essay',...</td>\n",
       "    </tr>\n",
       "  </tbody>\n",
       "</table>\n",
       "<p>10000 rows × 3 columns</p>\n",
       "</div>"
      ],
      "text/plain": [
       "      source    id                                               text\n",
       "0          0     0  ['12', 'year', 'slave', 'analysi', 'film', 'es...\n",
       "1          0     1  ['20+', 'social', 'media', 'post', 'idea', 'ra...\n",
       "2          0     2  ['2022', 'russian', 'invas', 'ukrain', 'global...\n",
       "3          0     3  ['533', 'u.s.', '27', '2001', 'kyllo', 'v.', '...\n",
       "4          0     4  ['charl', 'schwab', 'corpor', 'case', 'essay',...\n",
       "...      ...   ...                                                ...\n",
       "9995       0  9995  ['workplac', 'stress', 'absente', 'ship-repair...\n",
       "9996       0  9996  ['world', 'war', 'nation', 'conflict', 'reason...\n",
       "9997       0  9997  ['xyz', 'compani', 'oper', 'decis', 'present',...\n",
       "9998       0  9998  ['yahoo', 'compani', 'histori', 'present', 'es...\n",
       "9999       0  9999  ['zimbabw', 'ufo', 'encount', '1994', 'essay',...\n",
       "\n",
       "[10000 rows x 3 columns]"
      ]
     },
     "execution_count": 3,
     "metadata": {},
     "output_type": "execute_result"
    }
   ],
   "source": [
    "df"
   ]
  },
  {
   "cell_type": "code",
   "execution_count": null,
   "id": "e05e53f3-ecac-4f9b-8eaf-c00530249a04",
   "metadata": {},
   "outputs": [],
   "source": []
  }
 ],
 "metadata": {
  "kernelspec": {
   "display_name": "Python 3 (ipykernel)",
   "language": "python",
   "name": "python3"
  },
  "language_info": {
   "codemirror_mode": {
    "name": "ipython",
    "version": 3
   },
   "file_extension": ".py",
   "mimetype": "text/x-python",
   "name": "python",
   "nbconvert_exporter": "python",
   "pygments_lexer": "ipython3",
   "version": "3.9.20"
  }
 },
 "nbformat": 4,
 "nbformat_minor": 5
}
